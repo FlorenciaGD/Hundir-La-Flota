{
 "cells": [
  {
   "cell_type": "code",
   "execution_count": 1,
   "metadata": {},
   "outputs": [
    {
     "data": {
      "text/plain": [
       "[[' ', ' ', ' ', ' ', ' ', ' ', ' ', ' ', ' ', ' '],\n",
       " [' ', ' ', ' ', ' ', ' ', ' ', ' ', ' ', ' ', ' '],\n",
       " [' ', ' ', ' ', ' ', ' ', ' ', ' ', ' ', ' ', ' '],\n",
       " [' ', ' ', ' ', ' ', ' ', ' ', ' ', ' ', ' ', ' '],\n",
       " [' ', ' ', ' ', ' ', ' ', ' ', ' ', ' ', ' ', ' '],\n",
       " [' ', ' ', ' ', ' ', ' ', ' ', ' ', ' ', ' ', ' '],\n",
       " [' ', ' ', ' ', ' ', ' ', ' ', ' ', ' ', ' ', ' '],\n",
       " [' ', ' ', ' ', ' ', ' ', ' ', ' ', ' ', ' ', ' '],\n",
       " [' ', ' ', ' ', ' ', ' ', ' ', ' ', ' ', ' ', ' '],\n",
       " [' ', ' ', ' ', ' ', ' ', ' ', ' ', ' ', ' ', ' ']]"
      ]
     },
     "execution_count": 1,
     "metadata": {},
     "output_type": "execute_result"
    }
   ],
   "source": [
    "tablero = []\n",
    "for i in range(10):\n",
    "    linea = []\n",
    "    for j in range(10):\n",
    "        linea.append(\" \")\n",
    "    tablero.append(linea)\n",
    "tablero"
   ]
  },
  {
   "cell_type": "code",
   "execution_count": 2,
   "metadata": {},
   "outputs": [
    {
     "data": {
      "text/plain": [
       "[[' ', ' ', ' ', ' ', ' ', ' ', ' ', ' ', ' ', ' '],\n",
       " [' ', 'B', ' ', ' ', ' ', ' ', ' ', ' ', ' ', ' '],\n",
       " [' ', ' ', ' ', ' ', ' ', ' ', ' ', ' ', ' ', ' '],\n",
       " [' ', ' ', 'B', 'B', ' ', ' ', ' ', ' ', ' ', ' '],\n",
       " [' ', ' ', ' ', ' ', ' ', ' ', ' ', ' ', ' ', ' '],\n",
       " [' ', ' ', ' ', ' ', ' ', ' ', ' ', 'B', ' ', ' '],\n",
       " [' ', ' ', ' ', ' ', ' ', ' ', ' ', ' ', ' ', ' '],\n",
       " [' ', ' ', ' ', ' ', ' ', ' ', ' ', ' ', ' ', ' '],\n",
       " [' ', ' ', ' ', ' ', ' ', ' ', ' ', ' ', ' ', ' '],\n",
       " [' ', ' ', ' ', ' ', ' ', ' ', ' ', 'B', ' ', ' ']]"
      ]
     },
     "execution_count": 2,
     "metadata": {},
     "output_type": "execute_result"
    }
   ],
   "source": [
    "tablero[1][1] = \"B\"\n",
    "tablero[3][3] = \"B\" \n",
    "tablero[5][7] = \"B\"\n",
    "tablero[3][2] = \"B\"\n",
    "tablero[9][7] = \"B\"\n",
    "tablero"
   ]
  },
  {
   "cell_type": "code",
   "execution_count": 4,
   "metadata": {},
   "outputs": [
    {
     "name": "stdout",
     "output_type": "stream",
     "text": [
      "Agua\n"
     ]
    },
    {
     "data": {
      "text/plain": [
       "[[' ', ' ', ' ', ' ', ' ', ' ', ' ', ' ', ' ', ' '],\n",
       " [' ', 'B', 'O', ' ', 'O', ' ', ' ', ' ', ' ', ' '],\n",
       " [' ', ' ', ' ', ' ', ' ', ' ', ' ', ' ', ' ', ' '],\n",
       " [' ', ' ', 'B', 'B', ' ', ' ', ' ', ' ', ' ', ' '],\n",
       " [' ', ' ', ' ', ' ', ' ', ' ', ' ', ' ', ' ', ' '],\n",
       " [' ', ' ', ' ', ' ', ' ', ' ', ' ', 'B', ' ', ' '],\n",
       " [' ', ' ', ' ', ' ', ' ', ' ', ' ', ' ', ' ', ' '],\n",
       " [' ', ' ', ' ', ' ', ' ', ' ', ' ', ' ', ' ', ' '],\n",
       " [' ', ' ', ' ', ' ', ' ', ' ', ' ', ' ', ' ', ' '],\n",
       " [' ', ' ', ' ', ' ', ' ', ' ', ' ', 'B', ' ', ' ']]"
      ]
     },
     "execution_count": 4,
     "metadata": {},
     "output_type": "execute_result"
    }
   ],
   "source": [
    "def disparo(tablero,i,j):\n",
    "    if tablero[i][j] == \"B\":\n",
    "        print(\"Tocado\")\n",
    "        tablero[i][j] = \"X\"\n",
    "        return True\n",
    "    elif tablero[i][j] == \" \":\n",
    "        print(\"Agua\")\n",
    "        tablero[i][j] = \"O\"\n",
    "        return False\n",
    "    else:\n",
    "        print(\"Este juego no es lo tuyo!\")\n",
    "        return False\n",
    "disparo(tablero,1,4)\n",
    "tablero"
   ]
  },
  {
   "cell_type": "code",
   "execution_count": null,
   "metadata": {},
   "outputs": [],
   "source": []
  },
  {
   "cell_type": "code",
   "execution_count": null,
   "metadata": {},
   "outputs": [],
   "source": []
  },
  {
   "cell_type": "code",
   "execution_count": null,
   "metadata": {},
   "outputs": [],
   "source": []
  },
  {
   "cell_type": "code",
   "execution_count": null,
   "metadata": {},
   "outputs": [],
   "source": []
  },
  {
   "cell_type": "code",
   "execution_count": null,
   "metadata": {},
   "outputs": [],
   "source": []
  }
 ],
 "metadata": {
  "kernelspec": {
   "display_name": "Python 3",
   "language": "python",
   "name": "python3"
  },
  "language_info": {
   "codemirror_mode": {
    "name": "ipython",
    "version": 3
   },
   "file_extension": ".py",
   "mimetype": "text/x-python",
   "name": "python",
   "nbconvert_exporter": "python",
   "pygments_lexer": "ipython3",
   "version": "3.11.9"
  }
 },
 "nbformat": 4,
 "nbformat_minor": 2
}
