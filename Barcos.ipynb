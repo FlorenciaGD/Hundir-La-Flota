{
 "cells": [
  {
   "cell_type": "code",
   "execution_count": 2,
   "metadata": {},
   "outputs": [],
   "source": [
    "#Crear tableros\n",
    "tablero_jugador = [[\" \" for _ in range(10)] for _ in range(10)]\n",
    "tablero_computer = [[\" \" for _ in range(10)] for _ in range(10)]\n",
    "\n",
    "#tablero de disparos del jugador\n",
    "tablero_disparos = [[\" \" for _ in range(10)] for _ in range(10)]\n"
   ]
  },
  {
   "cell_type": "code",
   "execution_count": null,
   "metadata": {},
   "outputs": [],
   "source": [
    "# Colocación barcos en el tablero del jugador\n",
    "\n",
    "#Barcos de 1 eslora\n",
    "tablero_jugador[0][0] = \"B\"\n",
    "tablero_jugador[2][2] = \"B\" \n",
    "tablero_jugador[4][4] = \"B\"\n",
    "tablero_jugador[6][6] = \"B\"\n",
    "\n",
    "#Barcos de 2 esloras\n",
    "tablero_jugador[1][1] = \"B\"\n",
    "tablero_jugador[1][2] = \"B\" \n",
    "tablero_jugador[3][3] = \"B\"\n",
    "tablero_jugador[3][4] = \"B\"\n",
    "tablero_jugador[5][5] = \"B\"\n",
    "tablero_jugador[5][6] = \"B\"\n",
    "\n",
    "#Barcos de 3 esloras\n",
    "tablero_jugador[7][0] = \"B\"\n",
    "tablero_jugador[7][1] = \"B\" \n",
    "tablero_jugador[7][2] = \"B\"\n",
    "tablero_jugador[8][0] = \"B\"\n",
    "tablero_jugador[8][1] = \"B\"\n",
    "tablero_jugador[8][2] = \"B\"\n",
    "\n",
    "#Barcos de 4 esloras\n",
    "tablero_jugador[9][0] = \"B\"\n",
    "tablero_jugador[9][1] = \"B\" \n",
    "tablero_jugador[9][2] = \"B\"\n",
    "tablero_jugador[9][3] = \"B\"\n",
    "\n",
    "# Colocación barcos en el tablero del ordenador\n",
    "\n",
    "#Barcos de 1 eslora\n",
    "tablero_computer[0][1] = \"B\"\n",
    "tablero_computer[1][8] = \"B\" \n",
    "tablero_computer[3][9] = \"B\"\n",
    "tablero_computer[3][4] = \"B\"\n",
    "\n",
    "#Barcos de 2 esloras\n",
    "tablero_computer[6][0] = \"B\"\n",
    "tablero_computer[6][1] = \"B\" \n",
    "tablero_computer[2][1] = \"B\"\n",
    "tablero_computer[2][2] = \"B\"\n",
    "tablero_computer[9][4] = \"B\"\n",
    "tablero_computer[9][5] = \"B\"\n",
    "\n",
    "#Barcos de 3 esloras\n",
    "tablero_computer[7][7] = \"B\"\n",
    "tablero_computer[7][6] = \"B\" \n",
    "tablero_computer[7][5] = \"B\"\n",
    "tablero_computer[0][6] = \"B\"\n",
    "tablero_computer[0][4] = \"B\"\n",
    "tablero_computer[0][5] = \"B\"\n",
    "\n",
    "#Barcos de 4 esloras\n",
    "tablero_computer[5][3] = \"B\"\n",
    "tablero_computer[5][4] = \"B\" \n",
    "tablero_computer[5][5] = \"B\"\n",
    "tablero_computer[5][6] = \"B\"\n",
    "    "
   ]
  }
 ],
 "metadata": {
  "kernelspec": {
   "display_name": "Python 3",
   "language": "python",
   "name": "python3"
  },
  "language_info": {
   "codemirror_mode": {
    "name": "ipython",
    "version": 3
   },
   "file_extension": ".py",
   "mimetype": "text/x-python",
   "name": "python",
   "nbconvert_exporter": "python",
   "pygments_lexer": "ipython3",
   "version": "3.11.9"
  }
 },
 "nbformat": 4,
 "nbformat_minor": 2
}
